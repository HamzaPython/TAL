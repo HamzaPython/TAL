{
 "cells": [
  {
   "cell_type": "markdown",
   "metadata": {},
   "source": [
    "\"The closer a machine traduction is to a professional human traduction, the better it is.\"\n",
    "# F-measure score:\n",
    "F-measure est le plus simple des algorithmes d'évaluation automatique de la traduction par la machine, il consiste à chercher seulement l'existence des mêmes mots de la traduction candidate à sa référence, sans prendre en considération l'ordre.\n",
    "Pour calculer ce score il suffit de calculer la moyenne harmonique des paramètres (précision et recall), en précisant la valeur de $ \\alpha $:\n",
    "\\begin{equation*}\n",
    " \\frac{1}{\\frac{\\alpha}{p}+\\frac{1-\\alpha}{r}}\n",
    "\\end{equation*}\n",
    "\n",
    "## Exemples:\n",
    "### Précision et Recall:"
   ]
  },
  {
   "cell_type": "code",
   "execution_count": 1,
   "metadata": {},
   "outputs": [
    {
     "name": "stdout",
     "output_type": "stream",
     "text": [
      "0.5714285714285714\n",
      "0.8\n"
     ]
    }
   ],
   "source": [
    "from nltk.metrics.scores import precision, recall\n",
    "reference = set(\"my name is hamza jamal\".split())\n",
    "candidate = set(\"hamza jamal is a name of me\".split())\n",
    "precision = precision(reference, candidate)\n",
    "recall = recall(reference, candidate)\n",
    "print(precision)\n",
    "print(recall)"
   ]
  },
  {
   "cell_type": "markdown",
   "metadata": {},
   "source": [
    "### Calculer F-measure score:"
   ]
  },
  {
   "cell_type": "code",
   "execution_count": 2,
   "metadata": {},
   "outputs": [
    {
     "name": "stdout",
     "output_type": "stream",
     "text": [
      "0.6666666666666666\n",
      "0.6666666666666666\n"
     ]
    }
   ],
   "source": [
    "from nltk.metrics.scores import f_measure\n",
    "alpha=0.5\n",
    "fmeasure_score1 = f_measure(reference, candidate, alpha)\n",
    "fmeasure_score2 = 1/((alpha/precision)+((1-alpha)/recall))\n",
    "print(fmeasure_score1)\n",
    "print(fmeasure_score2)"
   ]
  }
 ],
 "metadata": {
  "kernelspec": {
   "display_name": "Python 3",
   "language": "python",
   "name": "python3"
  },
  "language_info": {
   "codemirror_mode": {
    "name": "ipython",
    "version": 3
   },
   "file_extension": ".py",
   "mimetype": "text/x-python",
   "name": "python",
   "nbconvert_exporter": "python",
   "pygments_lexer": "ipython3",
   "version": "3.6.3"
  }
 },
 "nbformat": 4,
 "nbformat_minor": 2
}
