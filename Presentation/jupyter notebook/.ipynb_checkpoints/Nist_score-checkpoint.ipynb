{
 "cells": [
  {
   "cell_type": "markdown",
   "metadata": {},
   "source": [
    "# Nist score:\n",
    "NIST (National Institute of Standards and Technology) est une amélioration de l'algorithme BLEU, il est basé sur BLEU avec quelques différences:\n",
    "- BLEU utilise la moyenne géométrique des n-grams, alors que NIST utilise la moyenne arithmétique.\n",
    "- BLEU utilise des poids égaux, alors que NIST calcule ses poids selon cette règle:\n",
    "\n",
    "\"When a correct n-gram is found, the rarer that n-gram is, the more weight it will be given\"\n",
    "Donc le poids sera calculé en fonction de la valeur d'information (moins fréquent plus informative), et on a:\n",
    "\\begin{equation*}\n",
    "Info(w_1...w_n)= log_2(\\frac{nb\\ d'occurrences\\ de\\ w_1...w_{n-1}}{nb\\ d'occurrences\\ de\\ w_1...w_{n}})\n",
    "\\end{equation*}\n",
    "\n",
    "- NIST utilise un facteur de pénalité différent que celui de BLEU, les petites différences entre la traduction candidate et la traduction référence n'ont pas de grand influence au score NIST.\n",
    "\\begin{equation*}\n",
    "BP = exp\\left(\\beta\\times log^2\\left(min\\left(\\frac{longeur\\ de\\ candidate}{moyenne\\ des\\ longeurs\\ des\\ références},1)\\right)\\right)\\right)\n",
    "\\end{equation*}\n",
    "\n",
    "où:\n",
    "\n",
    "$\\beta$: est choisi de façon que BP égale à 0.5 si la longueur de la traduction candidate égale à $\\frac{2}{3}$ de la moyenne des longueurs des traductions références.\n",
    "\n",
    "et donc le score NIST égale:\n",
    "\\begin{equation*}\n",
    "NIST = \\sum^{N}_{n=1}\\left(\\frac{\\sum_{all\\ w_1...w_{n-1}}Info(w_1...w_n)}{\\sum_{all\\ w_1...w_{n-1}} nb\\ des\\ grams}\\right)\\times BP\n",
    "\\end{equation*}\n",
    "\n",
    "où:\n",
    "\n",
    "$w_i$: le i-gram.\n",
    "\n",
    "\n",
    "## Comparaison des facteurs de pénalité de BLEU et NIST:"
   ]
  },
  {
   "cell_type": "code",
   "execution_count": 1,
   "metadata": {},
   "outputs": [
    {
     "name": "stdout",
     "output_type": "stream",
     "text": [
      "1.0\n",
      "0.36787944117144233\n"
     ]
    }
   ],
   "source": [
    "from nltk.translate.nist_score import nist_length_penalty\n",
    "from nltk.translate.bleu_score import brevity_penalty\n",
    "\n",
    "ref_len, hyp_len = 4, 2\n",
    "bp_nist = nist_length_penalty(ref_len, hyp_len)\n",
    "bp_bleu = brevity_penalty(ref_len, hyp_len)\n",
    "print(bp_nist)\n",
    "print(bp_bleu)"
   ]
  },
  {
   "cell_type": "markdown",
   "metadata": {},
   "source": [
    "## Calculer Nist score:"
   ]
  },
  {
   "cell_type": "code",
   "execution_count": 2,
   "metadata": {},
   "outputs": [
    {
     "name": "stdout",
     "output_type": "stream",
     "text": [
      "0.1681988212774269\n"
     ]
    }
   ],
   "source": [
    "from nltk.translate.nist_score import sentence_nist\n",
    "\n",
    "reference = [\"my name is hamza jamal\".split()]\n",
    "candidate = \"hamza jamal is a name of me\".split()\n",
    "Nist_score = sentence_nist(reference, candidate)\n",
    "print(Nist_score)"
   ]
  }
 ],
 "metadata": {
  "kernelspec": {
   "display_name": "Python 3",
   "language": "python",
   "name": "python3"
  },
  "language_info": {
   "codemirror_mode": {
    "name": "ipython",
    "version": 3
   },
   "file_extension": ".py",
   "mimetype": "text/x-python",
   "name": "python",
   "nbconvert_exporter": "python",
   "pygments_lexer": "ipython3",
   "version": "3.6.3"
  }
 },
 "nbformat": 4,
 "nbformat_minor": 2
}
