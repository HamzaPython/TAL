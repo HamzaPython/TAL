{
 "cells": [
  {
   "cell_type": "markdown",
   "metadata": {},
   "source": [
    "Le taux d'erreur de mots, ou word error rate (WER) en anglais, est une unité de mesure classique pour mesurer les performances d'un système de reconnaissance de la parole.\n",
    "\n",
    "Le WER est dérivé de la distance de Levenshtein, en travaillant au niveau des mots au lieu des caractères. Il indique le taux de mots incorrectement reconnus par rapport à un texte de référence. Plus le taux est faible (minimum 0.0) plus la reconnaissance est bonne. Le taux maximum n'est pas borné et peut dépasser 1.0 en cas de très mauvaise reconnaissance s'il y a beaucoup d'insertions.\n",
    "\n",
    "Après avoir aligné de manière optimale la référence avec le texte reconnu grâce à un algorithme de programmation dynamique, le taux d'erreur de mots est donné par:\n",
    "\\begin{equation*}\n",
    "{\\displaystyle WER={\\frac {S+D+I}{N}}}\n",
    "\\end{equation*}\n",
    "où :\n",
    "\n",
    "                                N  est le nombre de mots de référence,\n",
    "\n",
    "                                S est le nombre de substitutions (mots incorrectement reconnus),\n",
    "\n",
    "                                D  est le nombre de suppressions (mots omis),\n",
    "\n",
    "                                I est le nombre d'insertions (mots ajoutés),\n",
    "\n",
    "                                H est le nombre de mots correctement reconnus."
   ]
  }
 ],
 "metadata": {
  "kernelspec": {
   "display_name": "Python 3",
   "language": "python",
   "name": "python3"
  },
  "language_info": {
   "codemirror_mode": {
    "name": "ipython",
    "version": 3
   },
   "file_extension": ".py",
   "mimetype": "text/x-python",
   "name": "python",
   "nbconvert_exporter": "python",
   "pygments_lexer": "ipython3",
   "version": "3.6.3"
  }
 },
 "nbformat": 4,
 "nbformat_minor": 2
}
